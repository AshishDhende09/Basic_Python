{
 "cells": [
  {
   "cell_type": "markdown",
   "id": "fb2a7433",
   "metadata": {},
   "source": [
    "# Formatting with the .format() method\n",
    "\n",
    "A good way to format objects into your strings for print statments is with the string .format() method. Then syntax is:\n",
    "\n",
    "'Strings here {} then also {}'.format('something1','something2')"
   ]
  },
  {
   "cell_type": "code",
   "execution_count": 1,
   "id": "e09c4ac2",
   "metadata": {},
   "outputs": [
    {
     "name": "stdout",
     "output_type": "stream",
     "text": [
      "This is a string INCERTED\n"
     ]
    }
   ],
   "source": [
    "print('This is a string {}'.format('INCERTED'))"
   ]
  },
  {
   "cell_type": "code",
   "execution_count": 2,
   "id": "073bc346",
   "metadata": {},
   "outputs": [
    {
     "name": "stdout",
     "output_type": "stream",
     "text": [
      "The fox brown quick\n"
     ]
    }
   ],
   "source": [
    "print('The {} {} {}'.format('fox','brown','quick')) # without sequence"
   ]
  },
  {
   "cell_type": "code",
   "execution_count": 3,
   "id": "52ec968b",
   "metadata": {},
   "outputs": [
    {
     "name": "stdout",
     "output_type": "stream",
     "text": [
      "The quick brown fox\n"
     ]
    }
   ],
   "source": [
    "print('The {2} {1} {0}'.format('fox','brown','quick')) # with sequence"
   ]
  },
  {
   "cell_type": "code",
   "execution_count": 4,
   "id": "364d6140",
   "metadata": {},
   "outputs": [
    {
     "name": "stdout",
     "output_type": "stream",
     "text": [
      "The fox brown fox\n"
     ]
    }
   ],
   "source": [
    "print('The {0} {1} {0}'.format('fox','brown','quick')) # with repeating"
   ]
  },
  {
   "cell_type": "code",
   "execution_count": 5,
   "id": "a4bf6d88",
   "metadata": {},
   "outputs": [
    {
     "name": "stdout",
     "output_type": "stream",
     "text": [
      "The quick brown fox\n"
     ]
    }
   ],
   "source": [
    "print('The {q} {b} {f}'.format(f='fox',b='brown',q='quick')) # with variable assignment"
   ]
  },
  {
   "cell_type": "markdown",
   "id": "7aa63cb3",
   "metadata": {},
   "source": [
    "## Float formatting follows \"{value:width.precision f}\""
   ]
  },
  {
   "cell_type": "code",
   "execution_count": 6,
   "id": "78399023",
   "metadata": {},
   "outputs": [],
   "source": [
    "result = 100/777"
   ]
  },
  {
   "cell_type": "code",
   "execution_count": 7,
   "id": "e3557cb8",
   "metadata": {},
   "outputs": [
    {
     "data": {
      "text/plain": [
       "0.1287001287001287"
      ]
     },
     "execution_count": 7,
     "metadata": {},
     "output_type": "execute_result"
    }
   ],
   "source": [
    "result"
   ]
  },
  {
   "cell_type": "code",
   "execution_count": 8,
   "id": "e1499706",
   "metadata": {},
   "outputs": [
    {
     "name": "stdout",
     "output_type": "stream",
     "text": [
      "The result was 0.1287001287001287\n"
     ]
    }
   ],
   "source": [
    "print (\"The result was {r}\".format(r=result))"
   ]
  },
  {
   "cell_type": "code",
   "execution_count": 9,
   "id": "02c5e486",
   "metadata": {},
   "outputs": [
    {
     "name": "stdout",
     "output_type": "stream",
     "text": [
      "The result was 0.129\n"
     ]
    }
   ],
   "source": [
    " print (\"The result was {r:1.3f}\".format(r=result))"
   ]
  },
  {
   "cell_type": "code",
   "execution_count": 10,
   "id": "5ce98052",
   "metadata": {},
   "outputs": [],
   "source": [
    "name = \"Ashish\""
   ]
  },
  {
   "cell_type": "code",
   "execution_count": 11,
   "id": "66cc1164",
   "metadata": {},
   "outputs": [
    {
     "name": "stdout",
     "output_type": "stream",
     "text": [
      "Hello, his name is Ashish\n"
     ]
    }
   ],
   "source": [
    "print(\"Hello, his name is {n}\".format(n=name)) #Simple .format"
   ]
  },
  {
   "cell_type": "code",
   "execution_count": 12,
   "id": "71b2c6bf",
   "metadata": {},
   "outputs": [
    {
     "name": "stdout",
     "output_type": "stream",
     "text": [
      "Hello, his name is Ashish\n"
     ]
    }
   ],
   "source": [
    "print(f\"Hello, his name is {name}\") #improved f string method"
   ]
  },
  {
   "cell_type": "code",
   "execution_count": 13,
   "id": "fb3dbe6e",
   "metadata": {},
   "outputs": [],
   "source": [
    "name  = \"Sam\"\n",
    "age = 3"
   ]
  },
  {
   "cell_type": "code",
   "execution_count": 14,
   "id": "bafa3a4d",
   "metadata": {},
   "outputs": [
    {
     "name": "stdout",
     "output_type": "stream",
     "text": [
      "Sam is 3 old\n"
     ]
    }
   ],
   "source": [
    "print (f\"{name} is {age} old\")"
   ]
  }
 ],
 "metadata": {
  "kernelspec": {
   "display_name": "Python 3",
   "language": "python",
   "name": "python3"
  },
  "language_info": {
   "codemirror_mode": {
    "name": "ipython",
    "version": 3
   },
   "file_extension": ".py",
   "mimetype": "text/x-python",
   "name": "python",
   "nbconvert_exporter": "python",
   "pygments_lexer": "ipython3",
   "version": "3.8.8"
  }
 },
 "nbformat": 4,
 "nbformat_minor": 5
}
