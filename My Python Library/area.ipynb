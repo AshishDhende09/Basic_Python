{
 "cells": [
  {
   "cell_type": "code",
   "execution_count": 1,
   "id": "59ad3726",
   "metadata": {},
   "outputs": [],
   "source": [
    "import math\n",
    "def circle(rad):\n",
    "    if type(rad) not in [int,float]:\n",
    "        raise TypeError(\"invalid input\")\n",
    "    if rad<0:\n",
    "        raise ValueError(\"-ve number does not exists\")\n",
    "        \n",
    "    return math.pi*rad*rad"
   ]
  },
  {
   "cell_type": "code",
   "execution_count": null,
   "id": "5ac90cbd",
   "metadata": {},
   "outputs": [],
   "source": []
  }
 ],
 "metadata": {
  "kernelspec": {
   "display_name": "Python 3",
   "language": "python",
   "name": "python3"
  },
  "language_info": {
   "codemirror_mode": {
    "name": "ipython",
    "version": 3
   },
   "file_extension": ".py",
   "mimetype": "text/x-python",
   "name": "python",
   "nbconvert_exporter": "python",
   "pygments_lexer": "ipython3",
   "version": "3.8.8"
  }
 },
 "nbformat": 4,
 "nbformat_minor": 5
}
