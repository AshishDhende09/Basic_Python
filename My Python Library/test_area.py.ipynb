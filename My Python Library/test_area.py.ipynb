{
 "cells": [
  {
   "cell_type": "code",
   "execution_count": 1,
   "id": "f3a3cec8",
   "metadata": {},
   "outputs": [
    {
     "ename": "IndentationError",
     "evalue": "expected an indented block (<ipython-input-1-f546cf4e1b1e>, line 13)",
     "output_type": "error",
     "traceback": [
      "\u001b[1;36m  File \u001b[1;32m\"<ipython-input-1-f546cf4e1b1e>\"\u001b[1;36m, line \u001b[1;32m13\u001b[0m\n\u001b[1;33m    import unittest\u001b[0m\n\u001b[1;37m                   ^\u001b[0m\n\u001b[1;31mIndentationError\u001b[0m\u001b[1;31m:\u001b[0m expected an indented block\n"
     ]
    }
   ],
   "source": [
    "import unittest\n",
    "import area\n",
    "import math\n",
    "class Testarea(unittest.TestCase):\n",
    "  def test_area_1(self):\n",
    "      self.assertEqual(area.circle(0),0)\n",
    "      print(\"testcase1\")\n",
    "  def test_area_0(self):\n",
    "      self.assertEqual(area.circle(1),math.pi)\n",
    "      print(\"testcase2\")\n",
    "  def test_area_types(self):\n",
    "\n",
    "import unittest\n",
    "import area\n",
    "import math\n",
    "class Testarea(unittest.TestCase):\n",
    "  def test_area_1(self):\n",
    "      self.assertEqual(area.circle(0),0)\n",
    "      print(\"testcase1\")\n",
    "  def test_area_0(self):\n",
    "      self.assertEqual(area.circle(1),math.pi)\n",
    "      print(\"testcase2\")\n",
    "  def test_area_types(self):\n",
    "      self.assertRaises(TypeError,area.circle,\"python\")\n",
    "      self.assertRaises(TypeError,area.circle,True)\n",
    "      self.assertRaises(TypeError,area.circle,9+8j)\n",
    "  def test_negative(self):\n",
    "      self.assertRais"
   ]
  },
  {
   "cell_type": "code",
   "execution_count": null,
   "id": "5165c11d",
   "metadata": {},
   "outputs": [],
   "source": []
  }
 ],
 "metadata": {
  "kernelspec": {
   "display_name": "Python 3",
   "language": "python",
   "name": "python3"
  },
  "language_info": {
   "codemirror_mode": {
    "name": "ipython",
    "version": 3
   },
   "file_extension": ".py",
   "mimetype": "text/x-python",
   "name": "python",
   "nbconvert_exporter": "python",
   "pygments_lexer": "ipython3",
   "version": "3.8.8"
  }
 },
 "nbformat": 4,
 "nbformat_minor": 5
}
